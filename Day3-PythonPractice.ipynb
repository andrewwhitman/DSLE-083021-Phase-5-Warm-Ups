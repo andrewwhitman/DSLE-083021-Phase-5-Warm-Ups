{
 "cells": [
  {
   "cell_type": "markdown",
   "metadata": {},
   "source": [
    "# In-Flight Movies\n",
    "\n",
    "Given a list of movie lengths (in minutes: int) and a flight time (int), return a boolean if there are **two** movies that can be played back-to-back to equal the length of the flight.\n",
    "\n",
    "#### Example :\n",
    "\n",
    "`movies = [120, 80, 50, 90]`\n",
    "\n",
    "`flight = 200`\n",
    "\n",
    "> True (120 + 80 = 200)\n",
    "\n",
    "#### Constraints\n",
    "\n",
    "- Each movie in the list can be counted only once (you cannot watch the same movie twice)\n",
    "- The length of the list of movies >= 2\n",
    "- The length of the flight > 0"
   ]
  },
  {
   "cell_type": "code",
   "execution_count": 1,
   "metadata": {},
   "outputs": [],
   "source": [
    "movies = [120, 80, 50, 90]\n",
    "flight = 200"
   ]
  },
  {
   "cell_type": "code",
   "execution_count": 2,
   "metadata": {},
   "outputs": [],
   "source": [
    "from itertools import combinations"
   ]
  },
  {
   "cell_type": "code",
   "execution_count": 3,
   "metadata": {},
   "outputs": [
    {
     "name": "stdout",
     "output_type": "stream",
     "text": [
      "(120, 80)\n",
      "(120, 50)\n",
      "(120, 90)\n",
      "(80, 50)\n",
      "(80, 90)\n",
      "(50, 90)\n"
     ]
    }
   ],
   "source": [
    "for combo in combinations(movies, 2):\n",
    "    print(combo)"
   ]
  },
  {
   "cell_type": "code",
   "execution_count": null,
   "metadata": {},
   "outputs": [],
   "source": [
    "# solution with itertools\n",
    "# solution creates every possible combination,\n",
    "# so time complexity is O(len(movies_lengths) choose 2), which will be O(len(movies_lengths)^2)\n",
    "def find_inflight_movie_pair(flight_time, movies_lengths):\n",
    "    for combo in combinations(movies_lengths, 2):\n",
    "        if sum(combo) == flight_time:\n",
    "            return True\n",
    "    return False"
   ]
  },
  {
   "cell_type": "code",
   "execution_count": null,
   "metadata": {},
   "outputs": [],
   "source": [
    "# solution without built-in library\n",
    "# this solution will recheck already failed pairs\n",
    "def find_inflight_movie_pair(flight_time, movies_lengths):\n",
    "    for movie in movies_lengths:\n",
    "        time_remaining = flight_time - movie\n",
    "        leftovers = movies_lengths.copy()\n",
    "        leftovers.remove(movie)\n",
    "        if time_remaining in leftovers:\n",
    "            return True\n",
    "    return False"
   ]
  },
  {
   "cell_type": "code",
   "execution_count": null,
   "metadata": {},
   "outputs": [],
   "source": [
    "# true\n",
    "find_inflight_movie_pair(flight, movies)"
   ]
  },
  {
   "cell_type": "markdown",
   "metadata": {},
   "source": [
    "#### Tests"
   ]
  },
  {
   "cell_type": "code",
   "execution_count": null,
   "metadata": {},
   "outputs": [],
   "source": [
    "# false\n",
    "movies_test1 = [80, 40, 40, 100, 130]\n",
    "\n",
    "flight_test1 = 160"
   ]
  },
  {
   "cell_type": "code",
   "execution_count": null,
   "metadata": {},
   "outputs": [],
   "source": [
    "find_inflight_movie_pair(flight_test1, movies_test1)"
   ]
  },
  {
   "cell_type": "code",
   "execution_count": null,
   "metadata": {},
   "outputs": [],
   "source": [
    "# true\n",
    "movies_test2 = [80, 90, 100, 35, 145, 80]\n",
    "\n",
    "flight_test2 = 160"
   ]
  },
  {
   "cell_type": "code",
   "execution_count": null,
   "metadata": {},
   "outputs": [],
   "source": [
    "find_inflight_movie_pair(flight_test2, movies_test2)"
   ]
  },
  {
   "cell_type": "code",
   "execution_count": null,
   "metadata": {},
   "outputs": [],
   "source": [
    "# false\n",
    "movies_test3 = [40, 50]\n",
    "\n",
    "flight_test3 = 50"
   ]
  },
  {
   "cell_type": "code",
   "execution_count": null,
   "metadata": {},
   "outputs": [],
   "source": [
    "find_inflight_movie_pair(flight_test3, movies_test3)"
   ]
  }
 ],
 "metadata": {
  "kernelspec": {
   "display_name": "Python (learn-env)",
   "language": "python",
   "name": "learn-env"
  },
  "language_info": {
   "codemirror_mode": {
    "name": "ipython",
    "version": 3
   },
   "file_extension": ".py",
   "mimetype": "text/x-python",
   "name": "python",
   "nbconvert_exporter": "python",
   "pygments_lexer": "ipython3",
   "version": "3.8.5"
  }
 },
 "nbformat": 4,
 "nbformat_minor": 4
}
